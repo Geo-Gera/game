{
 "cells": [
  {
   "cell_type": "code",
   "execution_count": null,
   "metadata": {},
   "outputs": [],
   "source": [
    "import numpy\n",
    "\n",
    "\n",
    "\n",
    "def random_predict(X):\n",
    "    import random\n",
    "    L1 = 1  # Минимум\n",
    "    L2 = 100  # Максимум\n",
    "    att = 20  # Количество попыток\n",
    "\n",
    "    while att > 0:\n",
    "        att -= 1\n",
    "        step = (L1+L2) // 2  # Складываем минимум и максимум\n",
    "        if step > X:\n",
    "            L2 = step - 1\n",
    "        elif step < X:\n",
    "            L1 = step + 1\n",
    "        elif X == step:\n",
    "            # print(X,\"Число Угадано\",\"за\", att, \"попыток\")\n",
    "            break\n",
    "    return att\n",
    "\n",
    "\n",
    "def score_game():\n",
    "    count_ls = []  # Создаем пустой массив для ответов функции угадывания random_predict\n",
    "    # загадали список чисел - создали массив чисел от 1 до 100 размеров в 1000 единиц\n",
    "    numpy.random.seed(1)  # фиксируем сид для воспроизводимости\n",
    "    random_array = numpy.random.randint(1, 101, size=(1000))\n",
    "\n",
    "    for number in random_array:  # Для кажого числа в нашем массиве случайных чисел делай:\n",
    "        # Циклически передаем число в функцию random_predict, функция возвращает количество попыток ушедшее на угадывание\n",
    "        count_ls.append(random_predict(number))\n",
    "\n",
    "    # при помощи библиотеки numpy вызываем функицю mean вовзращающую среднее в массиве\n",
    "    score = int(numpy.mean(count_ls))\n",
    "    print(f\"Ваш алгоритм угадывает число в среднем за:{score} попыток\")\n",
    "    return score\n",
    "\n",
    "\n",
    "if __name__ == \"__main__\":  # Запуск как главный модуль\n",
    "    # RUN\n",
    "    score_game()\n"
   ]
  }
 ],
 "metadata": {
  "language_info": {
   "name": "python"
  }
 },
 "nbformat": 4,
 "nbformat_minor": 2
}
